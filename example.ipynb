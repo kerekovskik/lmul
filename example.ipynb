{
 "cells": [
  {
   "cell_type": "code",
   "execution_count": 2,
   "metadata": {},
   "outputs": [
    {
     "name": "stdout",
     "output_type": "stream",
     "text": [
      "Numpy multiplication took: 0.000673 seconds\n",
      "SIMD L-Mul multiplication took: 0.007752 seconds\n",
      "l_mul_scalar took: 0.176269 seconds\n",
      "Mean Squared Error SIMD: 0.00022590073058381677\n",
      "Mean Squared Error Scalar: 0.002258523650889492\n"
     ]
    }
   ],
   "source": [
    "import numpy as np\n",
    "import time\n",
    "from lmul import simd_l_mul_arrays, l_mul_scalar, metal_l_mul_arrays\n",
    "\n",
    "# Generate random arrays\n",
    "a = np.random.rand(1000000).astype(np.float32)\n",
    "b = np.random.rand(1000000).astype(np.float32)\n",
    "\n",
    "# Benchmark numpy multiplication\n",
    "start_time = time.time()\n",
    "result_np = a * b\n",
    "end_time = time.time()\n",
    "print(f\"Numpy multiplication took: {end_time - start_time:.6f} seconds\")\n",
    "\n",
    "# Benchmark simd_l_mul_arrays\n",
    "start_time = time.time()\n",
    "result_simd = simd_l_mul_arrays(a, b)\n",
    "end_time = time.time()\n",
    "print(f\"SIMD L-Mul multiplication took: {end_time - start_time:.6f} seconds\")\n",
    "\n",
    "# Calculate Mean Squared Error\n",
    "mse_smd = np.mean((result_np - result_simd)**2)\n",
    "\n",
    "# Benchmark metal_l_mul_arrays\n",
    "\n",
    "start_time = time.time()\n",
    "result_metal =  metal_l_mul_arrays(a,b)\n",
    "end_time = time.time()\n",
    "metal_time = end_time - start_time\n",
    "\n",
    "# Calculate Mean Squared Error\n",
    "mse_metal = np.mean((result_np - result_metal)**2)\n",
    "\n",
    "\n",
    "# benchmark l_mul_scalar\n",
    "start_time = time.time()\n",
    "result_scalar = np.array([l_mul_scalar(x, y) for x, y in zip(a, b)])\n",
    "end_time = time.time()\n",
    "\n",
    "print(f\"l_mul_scalar took: {end_time - start_time:.6f} seconds\")\n",
    "\n",
    "mse_scalar = np.mean((result_np - result_scalar)**2)\n",
    "\n",
    "print(f\"Mean Squared Error SIMD: {mse_smd}\")\n",
    "print(f\"Mean Squared Error Scalar: {mse_scalar}\")\n",
    "print(f\"Mean Squared Error Metal: {mse_metal}\")"
   ]
  }
 ],
 "metadata": {
  "kernelspec": {
   "display_name": ".venv",
   "language": "python",
   "name": "python3"
  },
  "language_info": {
   "codemirror_mode": {
    "name": "ipython",
    "version": 3
   },
   "file_extension": ".py",
   "mimetype": "text/x-python",
   "name": "python",
   "nbconvert_exporter": "python",
   "pygments_lexer": "ipython3",
   "version": "3.12.4"
  }
 },
 "nbformat": 4,
 "nbformat_minor": 2
}
